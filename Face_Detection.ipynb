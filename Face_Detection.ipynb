{
  "nbformat": 4,
  "nbformat_minor": 0,
  "metadata": {
    "colab": {
      "provenance": [],
      "include_colab_link": true
    },
    "kernelspec": {
      "name": "python3",
      "display_name": "Python 3"
    },
    "language_info": {
      "name": "python"
    }
  },
  "cells": [
    {
      "cell_type": "markdown",
      "metadata": {
        "id": "view-in-github",
        "colab_type": "text"
      },
      "source": [
        "<a href=\"https://colab.research.google.com/github/jannaelalawy/Order-Service/blob/main/Face_Detection.ipynb\" target=\"_parent\"><img src=\"https://colab.research.google.com/assets/colab-badge.svg\" alt=\"Open In Colab\"/></a>"
      ]
    },
    {
      "cell_type": "code",
      "source": [
        "import numpy as np\n",
        "import cv2\n",
        "import pandas as pd\n",
        "import matplotlib.pyplot as plt\n",
        "from zipfile import ZipFile\n",
        "from PIL import Image\n",
        "from keras.preprocessing.image import ImageDataGenerator\n",
        "from keras.preprocessing import image\n",
        "import collections\n",
        "from google.colab.patches import cv2_imshow\n",
        "import glob\n",
        "from skimage.transform import resize\n",
        "import tensorflow as tf\n"
      ],
      "metadata": {
        "id": "Y6L_q6MSF8lT"
      },
      "execution_count": null,
      "outputs": []
    },
    {
      "cell_type": "code",
      "source": [
        "train_ds= tf.keras.utils.image_dataset_from_directory('data/',validation_split=0.2,subset='training',seed=123,image_size=(338,338),batch_size=2)"
      ],
      "metadata": {
        "colab": {
          "base_uri": "https://localhost:8080/"
        },
        "id": "IlQEnWIpECCG",
        "outputId": "05a2f139-d03d-4ec4-d78b-bd184350c7a2"
      },
      "execution_count": null,
      "outputs": [
        {
          "output_type": "stream",
          "name": "stdout",
          "text": [
            "Found 19 files belonging to 5 classes.\n",
            "Using 16 files for training.\n"
          ]
        }
      ]
    },
    {
      "cell_type": "code",
      "source": [
        "val_ds= tf.keras.utils.image_dataset_from_directory('data/',validation_split=0.2,subset='validation',seed=123,image_size=(338,338),batch_size=2)"
      ],
      "metadata": {
        "colab": {
          "base_uri": "https://localhost:8080/"
        },
        "id": "37toSB72Gbi_",
        "outputId": "edfd24c5-2c68-4634-bff6-a3e32f79603c"
      },
      "execution_count": null,
      "outputs": [
        {
          "output_type": "stream",
          "name": "stdout",
          "text": [
            "Found 19 files belonging to 5 classes.\n",
            "Using 3 files for validation.\n"
          ]
        }
      ]
    },
    {
      "cell_type": "code",
      "source": [
        "train_ds"
      ],
      "metadata": {
        "colab": {
          "base_uri": "https://localhost:8080/"
        },
        "id": "PcoYhE8HF6GV",
        "outputId": "dfbc338b-f856-4a28-a4df-816caf39eeb4"
      },
      "execution_count": null,
      "outputs": [
        {
          "output_type": "execute_result",
          "data": {
            "text/plain": [
              "<_BatchDataset element_spec=(TensorSpec(shape=(None, 338, 338, 3), dtype=tf.float32, name=None), TensorSpec(shape=(None,), dtype=tf.int32, name=None))>"
            ]
          },
          "metadata": {},
          "execution_count": 34
        }
      ]
    },
    {
      "cell_type": "markdown",
      "source": [
        "Extracting the train and test datasets"
      ],
      "metadata": {
        "id": "4SdOdb4DeORf"
      }
    },
    {
      "cell_type": "code",
      "source": [
        "TrainFile = \"/content/data.zip\"\n",
        "\n",
        "with ZipFile(TrainFile, 'r') as zip:\n",
        "\tzip.printdir()\n",
        "\tprint('Extracting all the files now...')\n",
        "\tzip.extractall()\n",
        "\tprint('Done!')"
      ],
      "metadata": {
        "colab": {
          "base_uri": "https://localhost:8080/"
        },
        "id": "0E-q1OVSeATf",
        "outputId": "85436948-90b9-4326-d983-b5af56101d5e"
      },
      "execution_count": null,
      "outputs": [
        {
          "output_type": "stream",
          "name": "stdout",
          "text": [
            "File Name                                             Modified             Size\n",
            "data/farida/                                   2023-05-04 16:55:14            0\n",
            "data/farida/10.jpeg                            2023-04-29 17:32:36       154769\n",
            "data/farida/8.jpeg                             2023-04-29 17:32:44       191340\n",
            "data/farida/WhatsApp Image 2023-05-04 at 3.35.40 PM.jpeg 2023-05-04 15:38:24        67007\n",
            "data/farida/WhatsApp Image 2023-05-04 at 3.41.09 PM.jpeg 2023-05-04 15:41:30       243209\n",
            "data/jumana/                                   2023-05-04 15:38:06            0\n",
            "data/jumana/5.jpeg                             2023-04-29 17:34:02        91490\n",
            "data/jumana/6.jpeg                             2023-04-29 17:34:02        72694\n",
            "data/jumana/7.jpeg                             2023-04-29 17:34:02        82340\n",
            "data/jumana/WhatsApp Image 2022-02-18 at 5.57.32 PM.jpeg 2022-02-18 19:03:42       160873\n",
            "data/jumana/WhatsApp Image 2023-01-26 at 3.10.28 AM.jpeg 2023-01-26 04:10:48       145507\n",
            "data/khaled/                                   2023-05-04 15:41:08            0\n",
            "data/khaled/2.jpeg                             2023-04-29 17:48:08       197494\n",
            "data/khaled/3.jpeg                             2023-04-29 17:48:00       237067\n",
            "data/khaled/4.jpeg                             2023-04-29 17:47:54       185036\n",
            "data/khaled/WhatsApp Image 2023-05-04 at 3.40.45 PM.jpeg 2023-05-04 15:40:54        40477\n",
            "data/kroush/                                   2023-05-04 15:38:58            0\n",
            "data/kroush/12.jpeg                            2023-04-29 17:24:24        58863\n",
            "data/kroush/13.jpeg                            2023-04-29 17:24:16        52161\n",
            "data/kroush/8.jpeg                             2023-04-29 17:24:16        48681\n",
            "data/maher/                                    2023-05-04 15:36:42            0\n",
            "data/maher/1 (2).jpeg                          2023-04-29 17:50:12       134063\n",
            "data/maher/1.jpeg                              2023-04-29 17:50:12        86203\n",
            "data/maher/2.jpeg                              2023-04-29 17:50:12       168060\n",
            "Extracting all the files now...\n",
            "Done!\n"
          ]
        }
      ]
    },
    {
      "cell_type": "markdown",
      "source": [
        "Haar Cascade function: takes an image finds the faces and returns them cropped \n"
      ],
      "metadata": {
        "id": "0LAEXUQdeTd7"
      }
    },
    {
      "cell_type": "code",
      "source": [
        "def haarCascade(img):\n",
        " face_cascade = cv2.CascadeClassifier(cv2.data.haarcascades + 'haarcascade_frontalface_default.xml')\n",
        " eye_cascade = cv2.CascadeClassifier(cv2.data.haarcascades + 'haarcascade_eye.xml')\n",
        " gray = cv2.cvtColor(img, cv2.COLOR_BGR2GRAY)\n",
        " faces = face_cascade.detectMultiScale(gray, 1.3, 5,minSize=(30, 30))\n",
        " \n",
        " for (x,y,w,h) in faces:\n",
        "    img = cv2.rectangle(img,(x,y),(x+w,y+h),(0,255,0),2)\n",
        "    roi_color = img[y:y+h, x:x+w]\n",
        "    newimg=np.array(roi_color)\n",
        "    return newimg\n"
      ],
      "metadata": {
        "id": "X5XNsqz2eJca"
      },
      "execution_count": null,
      "outputs": []
    },
    {
      "cell_type": "code",
      "source": [
        "path = \"/content/data/*/*\"\n",
        "arr=[]\n",
        "target_face_size=(388,388)\n",
        "\n",
        "for file in glob.glob(path):\n",
        "  if('jumana' in file):\n",
        "    mytuple=(resize(haarCascade(cv2.imread(file)), target_face_size),'jumana')\n",
        "    arr.append(mytuple)\n",
        "  elif('farida' in file):\n",
        "    mytuple=(resize(haarCascade(cv2.imread(file)), target_face_size),'farida')\n",
        "    arr.append(mytuple)\n",
        "  elif('maher'in file):\n",
        "    mytuple=(resize(haarCascade(cv2.imread(file)),target_face_size),'maher')\n",
        "    arr.append(mytuple)\n",
        "  elif('khaled'in file):\n",
        "    mytuple=(resize(haarCascade(cv2.imread(file)),target_face_size),'khaled')\n",
        "    arr.append(mytuple)\n",
        "  elif('kroush'in file):\n",
        "    mytuple=(resize(haarCascade(cv2.imread(file)),target_face_size),'kroush')\n",
        "    arr.append(mytuple)\n",
        "\n",
        "   \n",
        "df = pd.DataFrame(arr,columns=['Image', 'label'])\n",
        "df"
      ],
      "metadata": {
        "id": "ejV_cCaXbaze",
        "colab": {
          "base_uri": "https://localhost:8080/",
          "height": 645
        },
        "outputId": "91c96010-7413-4ded-edeb-c92a455dac94"
      },
      "execution_count": null,
      "outputs": [
        {
          "output_type": "execute_result",
          "data": {
            "text/plain": [
              "                                                Image   label\n",
              "0   [[[0.0, 1.0, 0.0], [0.0, 1.0, 0.0], [0.0, 1.0,...  farida\n",
              "1   [[[1.4157049750033398e-06, 0.9999993882756281,...  farida\n",
              "2   [[[2.014554801044556e-06, 0.9999926003852498, ...  farida\n",
              "3   [[[0.0, 1.0, 0.0], [0.0, 1.0, 0.0], [0.0, 1.0,...  farida\n",
              "4   [[[0.0, 1.0, 0.0], [0.0, 1.0, 0.0], [0.0, 1.0,...  jumana\n",
              "5   [[[0.0, 1.0, 0.0], [0.0, 1.0, 0.0], [0.0, 1.0,...  jumana\n",
              "6   [[[9.404875252516209e-25, 1.0, 1.4587153452882...  jumana\n",
              "7   [[[8.455598692295072e-24, 0.9999999999999998, ...  jumana\n",
              "8   [[[3.645986932191094e-12, 0.9999999999926645, ...  jumana\n",
              "9   [[[0.0, 0.9999999999999998, 0.0], [0.0, 0.9999...  kroush\n",
              "10  [[[0.0, 1.0, 0.0], [0.0, 1.0, 0.0], [0.0, 1.0,...  kroush\n",
              "11  [[[0.0, 1.0, 0.0], [0.0, 1.0, 0.0], [0.0, 1.0,...  kroush\n",
              "12  [[[0.0003061066993468036, 0.9996605572823717, ...  khaled\n",
              "13  [[[2.9429919107105852e-05, 0.9999601469845425,...  khaled\n",
              "14  [[[0.0, 1.0, 0.0], [0.0, 1.0, 0.0], [0.0, 1.0,...  khaled\n",
              "15  [[[0.0008214921265068616, 0.9991705686857366, ...  khaled\n",
              "16  [[[0.0, 1.0, 0.0], [0.0, 1.0, 0.0], [0.0, 1.0,...   maher\n",
              "17  [[[0.0, 0.9999999999999999, 0.0], [0.0, 1.0, 0...   maher\n",
              "18  [[[0.0, 1.0, 0.0], [0.0, 1.0, 0.0], [0.0, 0.99...   maher"
            ],
            "text/html": [
              "\n",
              "  <div id=\"df-f4c3cd6c-bc71-4a4e-8f09-55060eea8762\">\n",
              "    <div class=\"colab-df-container\">\n",
              "      <div>\n",
              "<style scoped>\n",
              "    .dataframe tbody tr th:only-of-type {\n",
              "        vertical-align: middle;\n",
              "    }\n",
              "\n",
              "    .dataframe tbody tr th {\n",
              "        vertical-align: top;\n",
              "    }\n",
              "\n",
              "    .dataframe thead th {\n",
              "        text-align: right;\n",
              "    }\n",
              "</style>\n",
              "<table border=\"1\" class=\"dataframe\">\n",
              "  <thead>\n",
              "    <tr style=\"text-align: right;\">\n",
              "      <th></th>\n",
              "      <th>Image</th>\n",
              "      <th>label</th>\n",
              "    </tr>\n",
              "  </thead>\n",
              "  <tbody>\n",
              "    <tr>\n",
              "      <th>0</th>\n",
              "      <td>[[[0.0, 1.0, 0.0], [0.0, 1.0, 0.0], [0.0, 1.0,...</td>\n",
              "      <td>farida</td>\n",
              "    </tr>\n",
              "    <tr>\n",
              "      <th>1</th>\n",
              "      <td>[[[1.4157049750033398e-06, 0.9999993882756281,...</td>\n",
              "      <td>farida</td>\n",
              "    </tr>\n",
              "    <tr>\n",
              "      <th>2</th>\n",
              "      <td>[[[2.014554801044556e-06, 0.9999926003852498, ...</td>\n",
              "      <td>farida</td>\n",
              "    </tr>\n",
              "    <tr>\n",
              "      <th>3</th>\n",
              "      <td>[[[0.0, 1.0, 0.0], [0.0, 1.0, 0.0], [0.0, 1.0,...</td>\n",
              "      <td>farida</td>\n",
              "    </tr>\n",
              "    <tr>\n",
              "      <th>4</th>\n",
              "      <td>[[[0.0, 1.0, 0.0], [0.0, 1.0, 0.0], [0.0, 1.0,...</td>\n",
              "      <td>jumana</td>\n",
              "    </tr>\n",
              "    <tr>\n",
              "      <th>5</th>\n",
              "      <td>[[[0.0, 1.0, 0.0], [0.0, 1.0, 0.0], [0.0, 1.0,...</td>\n",
              "      <td>jumana</td>\n",
              "    </tr>\n",
              "    <tr>\n",
              "      <th>6</th>\n",
              "      <td>[[[9.404875252516209e-25, 1.0, 1.4587153452882...</td>\n",
              "      <td>jumana</td>\n",
              "    </tr>\n",
              "    <tr>\n",
              "      <th>7</th>\n",
              "      <td>[[[8.455598692295072e-24, 0.9999999999999998, ...</td>\n",
              "      <td>jumana</td>\n",
              "    </tr>\n",
              "    <tr>\n",
              "      <th>8</th>\n",
              "      <td>[[[3.645986932191094e-12, 0.9999999999926645, ...</td>\n",
              "      <td>jumana</td>\n",
              "    </tr>\n",
              "    <tr>\n",
              "      <th>9</th>\n",
              "      <td>[[[0.0, 0.9999999999999998, 0.0], [0.0, 0.9999...</td>\n",
              "      <td>kroush</td>\n",
              "    </tr>\n",
              "    <tr>\n",
              "      <th>10</th>\n",
              "      <td>[[[0.0, 1.0, 0.0], [0.0, 1.0, 0.0], [0.0, 1.0,...</td>\n",
              "      <td>kroush</td>\n",
              "    </tr>\n",
              "    <tr>\n",
              "      <th>11</th>\n",
              "      <td>[[[0.0, 1.0, 0.0], [0.0, 1.0, 0.0], [0.0, 1.0,...</td>\n",
              "      <td>kroush</td>\n",
              "    </tr>\n",
              "    <tr>\n",
              "      <th>12</th>\n",
              "      <td>[[[0.0003061066993468036, 0.9996605572823717, ...</td>\n",
              "      <td>khaled</td>\n",
              "    </tr>\n",
              "    <tr>\n",
              "      <th>13</th>\n",
              "      <td>[[[2.9429919107105852e-05, 0.9999601469845425,...</td>\n",
              "      <td>khaled</td>\n",
              "    </tr>\n",
              "    <tr>\n",
              "      <th>14</th>\n",
              "      <td>[[[0.0, 1.0, 0.0], [0.0, 1.0, 0.0], [0.0, 1.0,...</td>\n",
              "      <td>khaled</td>\n",
              "    </tr>\n",
              "    <tr>\n",
              "      <th>15</th>\n",
              "      <td>[[[0.0008214921265068616, 0.9991705686857366, ...</td>\n",
              "      <td>khaled</td>\n",
              "    </tr>\n",
              "    <tr>\n",
              "      <th>16</th>\n",
              "      <td>[[[0.0, 1.0, 0.0], [0.0, 1.0, 0.0], [0.0, 1.0,...</td>\n",
              "      <td>maher</td>\n",
              "    </tr>\n",
              "    <tr>\n",
              "      <th>17</th>\n",
              "      <td>[[[0.0, 0.9999999999999999, 0.0], [0.0, 1.0, 0...</td>\n",
              "      <td>maher</td>\n",
              "    </tr>\n",
              "    <tr>\n",
              "      <th>18</th>\n",
              "      <td>[[[0.0, 1.0, 0.0], [0.0, 1.0, 0.0], [0.0, 0.99...</td>\n",
              "      <td>maher</td>\n",
              "    </tr>\n",
              "  </tbody>\n",
              "</table>\n",
              "</div>\n",
              "      <button class=\"colab-df-convert\" onclick=\"convertToInteractive('df-f4c3cd6c-bc71-4a4e-8f09-55060eea8762')\"\n",
              "              title=\"Convert this dataframe to an interactive table.\"\n",
              "              style=\"display:none;\">\n",
              "        \n",
              "  <svg xmlns=\"http://www.w3.org/2000/svg\" height=\"24px\"viewBox=\"0 0 24 24\"\n",
              "       width=\"24px\">\n",
              "    <path d=\"M0 0h24v24H0V0z\" fill=\"none\"/>\n",
              "    <path d=\"M18.56 5.44l.94 2.06.94-2.06 2.06-.94-2.06-.94-.94-2.06-.94 2.06-2.06.94zm-11 1L8.5 8.5l.94-2.06 2.06-.94-2.06-.94L8.5 2.5l-.94 2.06-2.06.94zm10 10l.94 2.06.94-2.06 2.06-.94-2.06-.94-.94-2.06-.94 2.06-2.06.94z\"/><path d=\"M17.41 7.96l-1.37-1.37c-.4-.4-.92-.59-1.43-.59-.52 0-1.04.2-1.43.59L10.3 9.45l-7.72 7.72c-.78.78-.78 2.05 0 2.83L4 21.41c.39.39.9.59 1.41.59.51 0 1.02-.2 1.41-.59l7.78-7.78 2.81-2.81c.8-.78.8-2.07 0-2.86zM5.41 20L4 18.59l7.72-7.72 1.47 1.35L5.41 20z\"/>\n",
              "  </svg>\n",
              "      </button>\n",
              "      \n",
              "  <style>\n",
              "    .colab-df-container {\n",
              "      display:flex;\n",
              "      flex-wrap:wrap;\n",
              "      gap: 12px;\n",
              "    }\n",
              "\n",
              "    .colab-df-convert {\n",
              "      background-color: #E8F0FE;\n",
              "      border: none;\n",
              "      border-radius: 50%;\n",
              "      cursor: pointer;\n",
              "      display: none;\n",
              "      fill: #1967D2;\n",
              "      height: 32px;\n",
              "      padding: 0 0 0 0;\n",
              "      width: 32px;\n",
              "    }\n",
              "\n",
              "    .colab-df-convert:hover {\n",
              "      background-color: #E2EBFA;\n",
              "      box-shadow: 0px 1px 2px rgba(60, 64, 67, 0.3), 0px 1px 3px 1px rgba(60, 64, 67, 0.15);\n",
              "      fill: #174EA6;\n",
              "    }\n",
              "\n",
              "    [theme=dark] .colab-df-convert {\n",
              "      background-color: #3B4455;\n",
              "      fill: #D2E3FC;\n",
              "    }\n",
              "\n",
              "    [theme=dark] .colab-df-convert:hover {\n",
              "      background-color: #434B5C;\n",
              "      box-shadow: 0px 1px 3px 1px rgba(0, 0, 0, 0.15);\n",
              "      filter: drop-shadow(0px 1px 2px rgba(0, 0, 0, 0.3));\n",
              "      fill: #FFFFFF;\n",
              "    }\n",
              "  </style>\n",
              "\n",
              "      <script>\n",
              "        const buttonEl =\n",
              "          document.querySelector('#df-f4c3cd6c-bc71-4a4e-8f09-55060eea8762 button.colab-df-convert');\n",
              "        buttonEl.style.display =\n",
              "          google.colab.kernel.accessAllowed ? 'block' : 'none';\n",
              "\n",
              "        async function convertToInteractive(key) {\n",
              "          const element = document.querySelector('#df-f4c3cd6c-bc71-4a4e-8f09-55060eea8762');\n",
              "          const dataTable =\n",
              "            await google.colab.kernel.invokeFunction('convertToInteractive',\n",
              "                                                     [key], {});\n",
              "          if (!dataTable) return;\n",
              "\n",
              "          const docLinkHtml = 'Like what you see? Visit the ' +\n",
              "            '<a target=\"_blank\" href=https://colab.research.google.com/notebooks/data_table.ipynb>data table notebook</a>'\n",
              "            + ' to learn more about interactive tables.';\n",
              "          element.innerHTML = '';\n",
              "          dataTable['output_type'] = 'display_data';\n",
              "          await google.colab.output.renderOutput(dataTable, element);\n",
              "          const docLink = document.createElement('div');\n",
              "          docLink.innerHTML = docLinkHtml;\n",
              "          element.appendChild(docLink);\n",
              "        }\n",
              "      </script>\n",
              "    </div>\n",
              "  </div>\n",
              "  "
            ]
          },
          "metadata": {},
          "execution_count": 4
        }
      ]
    },
    {
      "cell_type": "code",
      "source": [
        "for i in range(18):\n",
        " print(df.Image[i].shape)"
      ],
      "metadata": {
        "colab": {
          "base_uri": "https://localhost:8080/"
        },
        "id": "i3hB7p_K-hF3",
        "outputId": "dbfee4fc-4d7c-408f-e637-2fd6b07d9a1b"
      },
      "execution_count": null,
      "outputs": [
        {
          "output_type": "stream",
          "name": "stdout",
          "text": [
            "(388, 388, 3)\n",
            "(388, 388, 3)\n",
            "(388, 388, 3)\n",
            "(388, 388, 3)\n",
            "(388, 388, 3)\n",
            "(388, 388, 3)\n",
            "(388, 388, 3)\n",
            "(388, 388, 3)\n",
            "(388, 388, 3)\n",
            "(388, 388, 3)\n",
            "(388, 388, 3)\n",
            "(388, 388, 3)\n",
            "(388, 388, 3)\n",
            "(388, 388, 3)\n",
            "(388, 388, 3)\n",
            "(388, 388, 3)\n",
            "(388, 388, 3)\n",
            "(388, 388, 3)\n"
          ]
        }
      ]
    },
    {
      "cell_type": "markdown",
      "source": [
        "**CNN**"
      ],
      "metadata": {
        "id": "EXUjlF-tN6hX"
      }
    },
    {
      "cell_type": "code",
      "source": [
        "\n",
        "import warnings\n",
        "# filter warnings\n",
        "warnings.filterwarnings('ignore')\n"
      ],
      "metadata": {
        "id": "8b3241-QjaEt"
      },
      "execution_count": null,
      "outputs": []
    },
    {
      "cell_type": "code",
      "source": [
        "import tensorflow as tf\n",
        "from sklearn.preprocessing import LabelEncoder\n",
        "from sklearn.model_selection import train_test_split\n",
        "from tensorflow.keras.models import Sequential\n",
        "from tensorflow.keras.layers import Conv2D, MaxPooling2D, Flatten, Dense, Dropout\n",
        "import numpy as np\n",
        "import cv2\n",
        "import seaborn as sns\n",
        "import matplotlib.pyplot as plt\n",
        "\n",
        "# # Set the image dimensions\n",
        "# IMG_HEIGHT = 388\n",
        "# IMG_WIDTH = 388\n",
        "# IMG_CHANNELS = 3\n",
        "\n",
        "\n",
        "# Prepare the data\n",
        "X = df['Image'].to_list()\n",
        "y = df['label'].to_list()\n",
        "\n",
        "# Encode the labels as integers\n",
        "le = LabelEncoder()\n",
        "y = le.fit_transform(y)\n"
      ],
      "metadata": {
        "id": "_PfUzYm2Oqx7"
      },
      "execution_count": null,
      "outputs": []
    },
    {
      "cell_type": "code",
      "source": [
        "import tensorflow as tf\n",
        "# Convert the NumPy array to a TensorFlow tensor\n",
        "y_tensor = tf.convert_to_tensor(y)"
      ],
      "metadata": {
        "id": "gDmsJj5oEGef"
      },
      "execution_count": null,
      "outputs": []
    },
    {
      "cell_type": "code",
      "source": [
        "# Split the data into training and testing sets\n",
        "X_train, X_test, y_train, y_test = train_test_split(X, y, test_size=0.2, random_state=42)"
      ],
      "metadata": {
        "id": "H9_-YDAfYWMg"
      },
      "execution_count": null,
      "outputs": []
    },
    {
      "cell_type": "code",
      "source": [
        "# Define the CNN model\n",
        "model = Sequential()\n",
        "model.add(Conv2D(32, (3, 3), activation='relu', input_shape=(338, 338, 3)))\n",
        "model.add(MaxPooling2D((2, 2)))\n",
        "model.add(Conv2D(64, (3, 3), activation='relu'))\n",
        "model.add(MaxPooling2D((2, 2)))\n",
        "model.add(Conv2D(128, (3, 3), activation='relu'))\n",
        "model.add(MaxPooling2D((2, 2)))\n",
        "model.add(Flatten())\n",
        "model.add(Dense(128, activation='relu'))\n",
        "model.add(Dropout(0.5))\n",
        "model.add(Dense(len(le.classes_), activation='softmax'))"
      ],
      "metadata": {
        "id": "1LzXi0ZwR17H"
      },
      "execution_count": null,
      "outputs": []
    },
    {
      "cell_type": "code",
      "source": [
        "# Compile the model\n",
        "model.compile(optimizer='adam',\n",
        "              loss='sparse_categorical_crossentropy',\n",
        "              metrics=['accuracy'])"
      ],
      "metadata": {
        "id": "CXgwyZZiR36C"
      },
      "execution_count": null,
      "outputs": []
    },
    {
      "cell_type": "code",
      "source": [
        "train_np=list(train_ds)"
      ],
      "metadata": {
        "id": "Y3zAwWyHIyq3"
      },
      "execution_count": null,
      "outputs": []
    },
    {
      "cell_type": "code",
      "source": [
        "import matplotlib.pyplot as plt"
      ],
      "metadata": {
        "id": "QGVlFD34Lkya"
      },
      "execution_count": null,
      "outputs": []
    },
    {
      "cell_type": "code",
      "source": [
        "# Train the model\n",
        "history = model.fit(train_ds,validation_data=val_ds, epochs=5)"
      ],
      "metadata": {
        "colab": {
          "base_uri": "https://localhost:8080/"
        },
        "id": "_ichPua2pV2n",
        "outputId": "bd2c078d-3b5d-4ade-eb19-ecde52250a64"
      },
      "execution_count": null,
      "outputs": [
        {
          "output_type": "stream",
          "name": "stdout",
          "text": [
            "Epoch 1/10\n",
            "8/8 [==============================] - 13s 1s/step - loss: 734.5878 - accuracy: 0.1875 - val_loss: 143.3201 - val_accuracy: 0.3333\n",
            "Epoch 2/10\n",
            "8/8 [==============================] - 10s 1s/step - loss: 52.9948 - accuracy: 0.1875 - val_loss: 5.3622 - val_accuracy: 0.3333\n",
            "Epoch 3/10\n",
            "8/8 [==============================] - 10s 1s/step - loss: 2.1121 - accuracy: 0.6250 - val_loss: 2.4877 - val_accuracy: 0.3333\n",
            "Epoch 4/10\n",
            "8/8 [==============================] - 10s 1s/step - loss: 2.9882 - accuracy: 0.6250 - val_loss: 1.8079 - val_accuracy: 0.3333\n",
            "Epoch 5/10\n",
            "8/8 [==============================] - 10s 1s/step - loss: 1.2745 - accuracy: 0.8750 - val_loss: 12.4677 - val_accuracy: 0.6667\n",
            "Epoch 6/10\n",
            "8/8 [==============================] - 10s 1s/step - loss: 9.5679 - accuracy: 0.8125 - val_loss: 49.8046 - val_accuracy: 0.0000e+00\n",
            "Epoch 7/10\n",
            "8/8 [==============================] - 10s 1s/step - loss: 12.5326 - accuracy: 0.7500 - val_loss: 12.9372 - val_accuracy: 0.3333\n",
            "Epoch 8/10\n",
            "8/8 [==============================] - 11s 1s/step - loss: 1.5612 - accuracy: 0.8750 - val_loss: 12.2145 - val_accuracy: 0.0000e+00\n",
            "Epoch 9/10\n",
            "8/8 [==============================] - 10s 1s/step - loss: 0.3171 - accuracy: 0.8750 - val_loss: 11.6818 - val_accuracy: 0.0000e+00\n",
            "Epoch 10/10\n",
            "8/8 [==============================] - 10s 1s/step - loss: 0.0573 - accuracy: 1.0000 - val_loss: 12.4042 - val_accuracy: 0.0000e+00\n"
          ]
        }
      ]
    },
    {
      "cell_type": "code",
      "source": [
        "pred = model.predict(train_ds)\n",
        "tf.where(pred < 0.5 , 0 , 1)"
      ],
      "metadata": {
        "colab": {
          "base_uri": "https://localhost:8080/"
        },
        "id": "0u9XaJkgPLzc",
        "outputId": "de7fb21c-5b15-4a99-8f0a-a8aacd5fd6b0"
      },
      "execution_count": null,
      "outputs": [
        {
          "output_type": "stream",
          "name": "stdout",
          "text": [
            "8/8 [==============================] - 2s 180ms/step\n"
          ]
        },
        {
          "output_type": "execute_result",
          "data": {
            "text/plain": [
              "<tf.Tensor: shape=(16, 5), dtype=int32, numpy=\n",
              "array([[1, 0, 0, 0, 0],\n",
              "       [0, 0, 0, 1, 0],\n",
              "       [0, 1, 0, 0, 0],\n",
              "       [0, 0, 0, 1, 0],\n",
              "       [0, 1, 0, 0, 0],\n",
              "       [1, 0, 0, 0, 0],\n",
              "       [0, 0, 0, 0, 1],\n",
              "       [0, 0, 1, 0, 0],\n",
              "       [0, 1, 0, 0, 0],\n",
              "       [0, 0, 0, 0, 1],\n",
              "       [0, 0, 1, 0, 0],\n",
              "       [0, 1, 0, 0, 0],\n",
              "       [0, 1, 0, 0, 0],\n",
              "       [0, 0, 1, 0, 0],\n",
              "       [1, 0, 0, 0, 0],\n",
              "       [0, 0, 1, 0, 0]], dtype=int32)>"
            ]
          },
          "metadata": {},
          "execution_count": 76
        }
      ]
    },
    {
      "cell_type": "markdown",
      "source": [
        "Calculating the loss and accuracy curves "
      ],
      "metadata": {
        "id": "dy9TB0EvvMPl"
      }
    },
    {
      "cell_type": "code",
      "source": [
        "# Plot the loss and accuracy curves for training and validation \n",
        "plt.plot(history.history['val_loss'], color='b', label=\"validation loss\")\n",
        "plt.title(\"Test Loss\")\n",
        "plt.xlabel(\"Number of Epochs\")\n",
        "plt.ylabel(\"Loss\")\n",
        "plt.legend()\n",
        "plt.show()"
      ],
      "metadata": {
        "id": "vxua33NVTCr1",
        "colab": {
          "base_uri": "https://localhost:8080/",
          "height": 472
        },
        "outputId": "4a0e6d2f-291e-4659-f28b-91ed01da10be"
      },
      "execution_count": null,
      "outputs": [
        {
          "output_type": "display_data",
          "data": {
            "text/plain": [
              "<Figure size 640x480 with 1 Axes>"
            ],
            "image/png": "[encoded data removed]"
          },
          "metadata": {}
        }
      ]
    }
  ]
}